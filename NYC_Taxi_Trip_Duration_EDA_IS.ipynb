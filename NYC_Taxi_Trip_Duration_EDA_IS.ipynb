{
 "cells": [
  {
   "cell_type": "markdown",
   "id": "0e69838c",
   "metadata": {
    "id": "0e69838c"
   },
   "source": [
    "# Problem Statement\n",
    "\n",
    "To improve the efficiency of taxi dispatching systems for such services, it is important to be able to predict how long a driver will have his taxi occupied. If a dispatcher knew approximately when a taxi driver would be ending their current ride, they would be better able to identify which driver to assign to each pickup request.\n",
    "\n",
    "We are challenged to build a model that predicts the total ride duration of taxi trips in New York City."
   ]
  },
  {
   "cell_type": "markdown",
   "id": "2642558f",
   "metadata": {
    "id": "2642558f"
   },
   "source": [
    "## Exploratory Data Analysis\n",
    "Let's check the data files! According to the data description we should find the following columns:\n",
    "\n",
    " - **id** - a unique identifier for each trip\n",
    " - **vendor_id** - a code indicating the provider associated with the trip record\n",
    " - **pickup_datetime** - date and time when the meter was engaged\n",
    " - **dropoff_datetime** - date and time when the meter was disengaged\n",
    " - **passenger_count** - the number of passengers in the vehicle (driver entered value)\n",
    " - **pickup_longitude** - the longitude where the meter was engaged\n",
    " - **pickup_latitude** - the latitude where the meter was engaged\n",
    " - **dropoff_longitude** - the longitude where the meter was disengaged\n",
    " - **dropoff_latitude** - the latitude where the meter was disengaged\n",
    " - **store_and_fwd_flag** - This flag indicates whether the trip record was held in vehicle memory before sending to the vendor because the vehicle did not have a connection to the server (Y=store and forward; N=not a store and forward trip)\n",
    " - **trip_duration** - (target) duration of the trip in seconds\n",
    " "
   ]
  },
  {
   "cell_type": "code",
   "execution_count": 1,
   "id": "73b7d174",
   "metadata": {
    "executionInfo": {
     "elapsed": 5134,
     "status": "ok",
     "timestamp": 1654246882308,
     "user": {
      "displayName": "Jerry Adithya",
      "userId": "01521653889757943360"
     },
     "user_tz": -330
    },
    "id": "73b7d174"
   },
   "outputs": [],
   "source": [
    "import pandas as pd\n",
    "import seaborn as sns\n",
    "import numpy as np\n",
    "import matplotlib.pyplot as plt\n",
    "import plotly.express as px\n",
    "import haversine as hs\n",
    "from sklearn import metrics\n",
    "from sklearn.metrics import mean_absolute_error\n",
    "from sklearn.preprocessing import MinMaxScaler\n",
    "from sklearn.metrics import confusion_matrix\n",
    "from sklearn.ensemble import RandomForestRegressor\n",
    "from sklearn.neighbors import KNeighborsRegressor as KNN\n",
    "from sklearn.tree import DecisionTreeRegressor\n",
    "from sklearn.linear_model import Ridge, Lasso\n",
    "from sklearn.model_selection import cross_val_score\n",
    "from sklearn.metrics import make_scorer\n",
    "from sklearn.metrics import mean_squared_error as mse\n",
    "from sklearn.metrics import f1_score\n",
    "import warnings\n",
    "warnings.filterwarnings('ignore')"
   ]
  },
  {
   "cell_type": "code",
   "execution_count": 2,
   "id": "5f2f8835",
   "metadata": {
    "id": "5f2f8835"
   },
   "outputs": [],
   "source": [
    "df = pd.read_csv(r\"C:\\Users\\jason\\Documents\\Jerry\\Studies\\Jerry DSc\\IS\\EDA-ML-Final-Project\\EDA+ML-Final Project\\nyc_taxi_trip_duration.csv\")"
   ]
  },
  {
   "cell_type": "markdown",
   "id": "bc1d7d8d",
   "metadata": {
    "id": "bc1d7d8d"
   },
   "source": [
    "### Explore"
   ]
  },
  {
   "cell_type": "code",
   "execution_count": 3,
   "id": "cf3bf1b5",
   "metadata": {
    "executionInfo": {
     "elapsed": 14,
     "status": "aborted",
     "timestamp": 1654246824556,
     "user": {
      "displayName": "Jerry Adithya",
      "userId": "01521653889757943360"
     },
     "user_tz": -330
    },
    "id": "cf3bf1b5",
    "scrolled": true
   },
   "outputs": [
    {
     "data": {
      "text/html": [
       "<div>\n",
       "<style scoped>\n",
       "    .dataframe tbody tr th:only-of-type {\n",
       "        vertical-align: middle;\n",
       "    }\n",
       "\n",
       "    .dataframe tbody tr th {\n",
       "        vertical-align: top;\n",
       "    }\n",
       "\n",
       "    .dataframe thead th {\n",
       "        text-align: right;\n",
       "    }\n",
       "</style>\n",
       "<table border=\"1\" class=\"dataframe\">\n",
       "  <thead>\n",
       "    <tr style=\"text-align: right;\">\n",
       "      <th></th>\n",
       "      <th>id</th>\n",
       "      <th>vendor_id</th>\n",
       "      <th>pickup_datetime</th>\n",
       "      <th>dropoff_datetime</th>\n",
       "      <th>passenger_count</th>\n",
       "      <th>pickup_longitude</th>\n",
       "      <th>pickup_latitude</th>\n",
       "      <th>dropoff_longitude</th>\n",
       "      <th>dropoff_latitude</th>\n",
       "      <th>store_and_fwd_flag</th>\n",
       "      <th>trip_duration</th>\n",
       "    </tr>\n",
       "  </thead>\n",
       "  <tbody>\n",
       "    <tr>\n",
       "      <th>0</th>\n",
       "      <td>id1080784</td>\n",
       "      <td>2</td>\n",
       "      <td>2016-02-29 16:40:21</td>\n",
       "      <td>2016-02-29 16:47:01</td>\n",
       "      <td>1</td>\n",
       "      <td>-73.953918</td>\n",
       "      <td>40.778873</td>\n",
       "      <td>-73.963875</td>\n",
       "      <td>40.771164</td>\n",
       "      <td>N</td>\n",
       "      <td>400</td>\n",
       "    </tr>\n",
       "    <tr>\n",
       "      <th>1</th>\n",
       "      <td>id0889885</td>\n",
       "      <td>1</td>\n",
       "      <td>2016-03-11 23:35:37</td>\n",
       "      <td>2016-03-11 23:53:57</td>\n",
       "      <td>2</td>\n",
       "      <td>-73.988312</td>\n",
       "      <td>40.731743</td>\n",
       "      <td>-73.994751</td>\n",
       "      <td>40.694931</td>\n",
       "      <td>N</td>\n",
       "      <td>1100</td>\n",
       "    </tr>\n",
       "    <tr>\n",
       "      <th>2</th>\n",
       "      <td>id0857912</td>\n",
       "      <td>2</td>\n",
       "      <td>2016-02-21 17:59:33</td>\n",
       "      <td>2016-02-21 18:26:48</td>\n",
       "      <td>2</td>\n",
       "      <td>-73.997314</td>\n",
       "      <td>40.721458</td>\n",
       "      <td>-73.948029</td>\n",
       "      <td>40.774918</td>\n",
       "      <td>N</td>\n",
       "      <td>1635</td>\n",
       "    </tr>\n",
       "    <tr>\n",
       "      <th>3</th>\n",
       "      <td>id3744273</td>\n",
       "      <td>2</td>\n",
       "      <td>2016-01-05 09:44:31</td>\n",
       "      <td>2016-01-05 10:03:32</td>\n",
       "      <td>6</td>\n",
       "      <td>-73.961670</td>\n",
       "      <td>40.759720</td>\n",
       "      <td>-73.956779</td>\n",
       "      <td>40.780628</td>\n",
       "      <td>N</td>\n",
       "      <td>1141</td>\n",
       "    </tr>\n",
       "    <tr>\n",
       "      <th>4</th>\n",
       "      <td>id0232939</td>\n",
       "      <td>1</td>\n",
       "      <td>2016-02-17 06:42:23</td>\n",
       "      <td>2016-02-17 06:56:31</td>\n",
       "      <td>1</td>\n",
       "      <td>-74.017120</td>\n",
       "      <td>40.708469</td>\n",
       "      <td>-73.988182</td>\n",
       "      <td>40.740631</td>\n",
       "      <td>N</td>\n",
       "      <td>848</td>\n",
       "    </tr>\n",
       "  </tbody>\n",
       "</table>\n",
       "</div>"
      ],
      "text/plain": [
       "          id  vendor_id      pickup_datetime     dropoff_datetime  \\\n",
       "0  id1080784          2  2016-02-29 16:40:21  2016-02-29 16:47:01   \n",
       "1  id0889885          1  2016-03-11 23:35:37  2016-03-11 23:53:57   \n",
       "2  id0857912          2  2016-02-21 17:59:33  2016-02-21 18:26:48   \n",
       "3  id3744273          2  2016-01-05 09:44:31  2016-01-05 10:03:32   \n",
       "4  id0232939          1  2016-02-17 06:42:23  2016-02-17 06:56:31   \n",
       "\n",
       "   passenger_count  pickup_longitude  pickup_latitude  dropoff_longitude  \\\n",
       "0                1        -73.953918        40.778873         -73.963875   \n",
       "1                2        -73.988312        40.731743         -73.994751   \n",
       "2                2        -73.997314        40.721458         -73.948029   \n",
       "3                6        -73.961670        40.759720         -73.956779   \n",
       "4                1        -74.017120        40.708469         -73.988182   \n",
       "\n",
       "   dropoff_latitude store_and_fwd_flag  trip_duration  \n",
       "0         40.771164                  N            400  \n",
       "1         40.694931                  N           1100  \n",
       "2         40.774918                  N           1635  \n",
       "3         40.780628                  N           1141  \n",
       "4         40.740631                  N            848  "
      ]
     },
     "execution_count": 3,
     "metadata": {},
     "output_type": "execute_result"
    }
   ],
   "source": [
    "df.head()"
   ]
  },
  {
   "cell_type": "code",
   "execution_count": 4,
   "id": "77203511",
   "metadata": {
    "executionInfo": {
     "elapsed": 14,
     "status": "aborted",
     "timestamp": 1654246824556,
     "user": {
      "displayName": "Jerry Adithya",
      "userId": "01521653889757943360"
     },
     "user_tz": -330
    },
    "id": "77203511"
   },
   "outputs": [
    {
     "name": "stdout",
     "output_type": "stream",
     "text": [
      "<class 'pandas.core.frame.DataFrame'>\n",
      "RangeIndex: 729322 entries, 0 to 729321\n",
      "Data columns (total 11 columns):\n",
      " #   Column              Non-Null Count   Dtype  \n",
      "---  ------              --------------   -----  \n",
      " 0   id                  729322 non-null  object \n",
      " 1   vendor_id           729322 non-null  int64  \n",
      " 2   pickup_datetime     729322 non-null  object \n",
      " 3   dropoff_datetime    729322 non-null  object \n",
      " 4   passenger_count     729322 non-null  int64  \n",
      " 5   pickup_longitude    729322 non-null  float64\n",
      " 6   pickup_latitude     729322 non-null  float64\n",
      " 7   dropoff_longitude   729322 non-null  float64\n",
      " 8   dropoff_latitude    729322 non-null  float64\n",
      " 9   store_and_fwd_flag  729322 non-null  object \n",
      " 10  trip_duration       729322 non-null  int64  \n",
      "dtypes: float64(4), int64(3), object(4)\n",
      "memory usage: 61.2+ MB\n"
     ]
    }
   ],
   "source": [
    "df.info()"
   ]
  },
  {
   "cell_type": "code",
   "execution_count": 5,
   "id": "fa4e89c2",
   "metadata": {
    "executionInfo": {
     "elapsed": 14,
     "status": "aborted",
     "timestamp": 1654246824556,
     "user": {
      "displayName": "Jerry Adithya",
      "userId": "01521653889757943360"
     },
     "user_tz": -330
    },
    "id": "fa4e89c2"
   },
   "outputs": [
    {
     "data": {
      "text/plain": [
       "(729322, 11)"
      ]
     },
     "execution_count": 5,
     "metadata": {},
     "output_type": "execute_result"
    }
   ],
   "source": [
    "df.shape"
   ]
  },
  {
   "cell_type": "code",
   "execution_count": 6,
   "id": "a06776ae",
   "metadata": {
    "executionInfo": {
     "elapsed": 15,
     "status": "aborted",
     "timestamp": 1654246824557,
     "user": {
      "displayName": "Jerry Adithya",
      "userId": "01521653889757943360"
     },
     "user_tz": -330
    },
    "id": "a06776ae"
   },
   "outputs": [],
   "source": [
    "df.pickup_datetime=pd.to_datetime(df.pickup_datetime)\n",
    "df.dropoff_datetime=pd.to_datetime(df.dropoff_datetime)\n",
    "df['pu_hour'] = df.pickup_datetime.dt.hour\n",
    "df['yday'] = df.pickup_datetime.dt.dayofyear\n",
    "df['wday'] = df.pickup_datetime.dt.dayofweek"
   ]
  },
  {
   "cell_type": "code",
   "execution_count": 7,
   "id": "24f7c0cd",
   "metadata": {
    "executionInfo": {
     "elapsed": 15,
     "status": "aborted",
     "timestamp": 1654246824557,
     "user": {
      "displayName": "Jerry Adithya",
      "userId": "01521653889757943360"
     },
     "user_tz": -330
    },
    "id": "24f7c0cd"
   },
   "outputs": [],
   "source": [
    "day =1\n",
    "df_day=df[((df.pickup_datetime<'2016-02-'+str(day+1))&\n",
    "           (df.pickup_datetime>='2016-02-'+str(day)))]"
   ]
  },
  {
   "cell_type": "code",
   "execution_count": 8,
   "id": "b995ef71",
   "metadata": {
    "executionInfo": {
     "elapsed": 16,
     "status": "aborted",
     "timestamp": 1654246824558,
     "user": {
      "displayName": "Jerry Adithya",
      "userId": "01521653889757943360"
     },
     "user_tz": -330
    },
    "id": "b995ef71"
   },
   "outputs": [],
   "source": [
    "def haversine_np(lon1, lat1, lon2, lat2):\n",
    "    lon1, lat1, lon2, lat2 = map(np.radians, [lon1, lat1, lon2, lat2])\n",
    "    dlon = lon2 - lon1\n",
    "    dlat = lat2 - lat1\n",
    "    a = np.sin(dlat/2.0)**2 + np.cos(lat1) * np.cos(lat2) * np.sin(dlon/2.0)**2\n",
    "    c = 2 * np.arcsin(np.sqrt(a))\n",
    "    km = 6367 * c\n",
    "    return km"
   ]
  },
  {
   "cell_type": "code",
   "execution_count": 9,
   "id": "ba6417bc",
   "metadata": {
    "executionInfo": {
     "elapsed": 16,
     "status": "aborted",
     "timestamp": 1654246824558,
     "user": {
      "displayName": "Jerry Adithya",
      "userId": "01521653889757943360"
     },
     "user_tz": -330
    },
    "id": "ba6417bc"
   },
   "outputs": [],
   "source": [
    "df['distance'] = haversine_np(df.pickup_longitude, df.pickup_latitude,\n",
    "                                           df.dropoff_longitude, df.dropoff_latitude)"
   ]
  },
  {
   "cell_type": "code",
   "execution_count": 10,
   "id": "c2c7266f",
   "metadata": {
    "executionInfo": {
     "elapsed": 15,
     "status": "aborted",
     "timestamp": 1654246824558,
     "user": {
      "displayName": "Jerry Adithya",
      "userId": "01521653889757943360"
     },
     "user_tz": -330
    },
    "id": "c2c7266f"
   },
   "outputs": [
    {
     "data": {
      "text/html": [
       "<div>\n",
       "<style scoped>\n",
       "    .dataframe tbody tr th:only-of-type {\n",
       "        vertical-align: middle;\n",
       "    }\n",
       "\n",
       "    .dataframe tbody tr th {\n",
       "        vertical-align: top;\n",
       "    }\n",
       "\n",
       "    .dataframe thead th {\n",
       "        text-align: right;\n",
       "    }\n",
       "</style>\n",
       "<table border=\"1\" class=\"dataframe\">\n",
       "  <thead>\n",
       "    <tr style=\"text-align: right;\">\n",
       "      <th></th>\n",
       "      <th>id</th>\n",
       "      <th>vendor_id</th>\n",
       "      <th>pickup_datetime</th>\n",
       "      <th>dropoff_datetime</th>\n",
       "      <th>passenger_count</th>\n",
       "      <th>pickup_longitude</th>\n",
       "      <th>pickup_latitude</th>\n",
       "      <th>dropoff_longitude</th>\n",
       "      <th>dropoff_latitude</th>\n",
       "      <th>store_and_fwd_flag</th>\n",
       "      <th>trip_duration</th>\n",
       "      <th>pu_hour</th>\n",
       "      <th>yday</th>\n",
       "      <th>wday</th>\n",
       "      <th>distance</th>\n",
       "    </tr>\n",
       "  </thead>\n",
       "  <tbody>\n",
       "    <tr>\n",
       "      <th>0</th>\n",
       "      <td>id1080784</td>\n",
       "      <td>2</td>\n",
       "      <td>2016-02-29 16:40:21</td>\n",
       "      <td>2016-02-29 16:47:01</td>\n",
       "      <td>1</td>\n",
       "      <td>-73.953918</td>\n",
       "      <td>40.778873</td>\n",
       "      <td>-73.963875</td>\n",
       "      <td>40.771164</td>\n",
       "      <td>N</td>\n",
       "      <td>400</td>\n",
       "      <td>16</td>\n",
       "      <td>60</td>\n",
       "      <td>0</td>\n",
       "      <td>1.198320</td>\n",
       "    </tr>\n",
       "    <tr>\n",
       "      <th>1</th>\n",
       "      <td>id0889885</td>\n",
       "      <td>1</td>\n",
       "      <td>2016-03-11 23:35:37</td>\n",
       "      <td>2016-03-11 23:53:57</td>\n",
       "      <td>2</td>\n",
       "      <td>-73.988312</td>\n",
       "      <td>40.731743</td>\n",
       "      <td>-73.994751</td>\n",
       "      <td>40.694931</td>\n",
       "      <td>N</td>\n",
       "      <td>1100</td>\n",
       "      <td>23</td>\n",
       "      <td>71</td>\n",
       "      <td>4</td>\n",
       "      <td>4.126519</td>\n",
       "    </tr>\n",
       "    <tr>\n",
       "      <th>2</th>\n",
       "      <td>id0857912</td>\n",
       "      <td>2</td>\n",
       "      <td>2016-02-21 17:59:33</td>\n",
       "      <td>2016-02-21 18:26:48</td>\n",
       "      <td>2</td>\n",
       "      <td>-73.997314</td>\n",
       "      <td>40.721458</td>\n",
       "      <td>-73.948029</td>\n",
       "      <td>40.774918</td>\n",
       "      <td>N</td>\n",
       "      <td>1635</td>\n",
       "      <td>17</td>\n",
       "      <td>52</td>\n",
       "      <td>6</td>\n",
       "      <td>7.246201</td>\n",
       "    </tr>\n",
       "    <tr>\n",
       "      <th>3</th>\n",
       "      <td>id3744273</td>\n",
       "      <td>2</td>\n",
       "      <td>2016-01-05 09:44:31</td>\n",
       "      <td>2016-01-05 10:03:32</td>\n",
       "      <td>6</td>\n",
       "      <td>-73.961670</td>\n",
       "      <td>40.759720</td>\n",
       "      <td>-73.956779</td>\n",
       "      <td>40.780628</td>\n",
       "      <td>N</td>\n",
       "      <td>1141</td>\n",
       "      <td>9</td>\n",
       "      <td>5</td>\n",
       "      <td>1</td>\n",
       "      <td>2.359615</td>\n",
       "    </tr>\n",
       "    <tr>\n",
       "      <th>4</th>\n",
       "      <td>id0232939</td>\n",
       "      <td>1</td>\n",
       "      <td>2016-02-17 06:42:23</td>\n",
       "      <td>2016-02-17 06:56:31</td>\n",
       "      <td>1</td>\n",
       "      <td>-74.017120</td>\n",
       "      <td>40.708469</td>\n",
       "      <td>-73.988182</td>\n",
       "      <td>40.740631</td>\n",
       "      <td>N</td>\n",
       "      <td>848</td>\n",
       "      <td>6</td>\n",
       "      <td>48</td>\n",
       "      <td>2</td>\n",
       "      <td>4.325816</td>\n",
       "    </tr>\n",
       "  </tbody>\n",
       "</table>\n",
       "</div>"
      ],
      "text/plain": [
       "          id  vendor_id     pickup_datetime    dropoff_datetime  \\\n",
       "0  id1080784          2 2016-02-29 16:40:21 2016-02-29 16:47:01   \n",
       "1  id0889885          1 2016-03-11 23:35:37 2016-03-11 23:53:57   \n",
       "2  id0857912          2 2016-02-21 17:59:33 2016-02-21 18:26:48   \n",
       "3  id3744273          2 2016-01-05 09:44:31 2016-01-05 10:03:32   \n",
       "4  id0232939          1 2016-02-17 06:42:23 2016-02-17 06:56:31   \n",
       "\n",
       "   passenger_count  pickup_longitude  pickup_latitude  dropoff_longitude  \\\n",
       "0                1        -73.953918        40.778873         -73.963875   \n",
       "1                2        -73.988312        40.731743         -73.994751   \n",
       "2                2        -73.997314        40.721458         -73.948029   \n",
       "3                6        -73.961670        40.759720         -73.956779   \n",
       "4                1        -74.017120        40.708469         -73.988182   \n",
       "\n",
       "   dropoff_latitude store_and_fwd_flag  trip_duration  pu_hour  yday  wday  \\\n",
       "0         40.771164                  N            400       16    60     0   \n",
       "1         40.694931                  N           1100       23    71     4   \n",
       "2         40.774918                  N           1635       17    52     6   \n",
       "3         40.780628                  N           1141        9     5     1   \n",
       "4         40.740631                  N            848        6    48     2   \n",
       "\n",
       "   distance  \n",
       "0  1.198320  \n",
       "1  4.126519  \n",
       "2  7.246201  \n",
       "3  2.359615  \n",
       "4  4.325816  "
      ]
     },
     "execution_count": 10,
     "metadata": {},
     "output_type": "execute_result"
    }
   ],
   "source": [
    "df.head()"
   ]
  },
  {
   "cell_type": "code",
   "execution_count": 11,
   "id": "116f801e",
   "metadata": {
    "executionInfo": {
     "elapsed": 16,
     "status": "aborted",
     "timestamp": 1654246824559,
     "user": {
      "displayName": "Jerry Adithya",
      "userId": "01521653889757943360"
     },
     "user_tz": -330
    },
    "id": "116f801e"
   },
   "outputs": [],
   "source": [
    "df = df.drop(['id','pickup_latitude','pickup_longitude','dropoff_longitude','dropoff_latitude'],axis=1)"
   ]
  },
  {
   "cell_type": "code",
   "execution_count": 12,
   "id": "ef204bda",
   "metadata": {
    "executionInfo": {
     "elapsed": 16,
     "status": "aborted",
     "timestamp": 1654246824559,
     "user": {
      "displayName": "Jerry Adithya",
      "userId": "01521653889757943360"
     },
     "user_tz": -330
    },
    "id": "ef204bda"
   },
   "outputs": [],
   "source": [
    "df['store_and_fwd_flag'] = (\n",
    "    df['store_and_fwd_flag'].replace(['N'],'0')\n",
    "    .replace(['Y'],'1')\n",
    ")"
   ]
  },
  {
   "cell_type": "code",
   "execution_count": 13,
   "id": "b7eceb01",
   "metadata": {
    "executionInfo": {
     "elapsed": 17,
     "status": "aborted",
     "timestamp": 1654246824560,
     "user": {
      "displayName": "Jerry Adithya",
      "userId": "01521653889757943360"
     },
     "user_tz": -330
    },
    "id": "b7eceb01"
   },
   "outputs": [],
   "source": [
    "x = df.drop('trip_duration', axis=1)\n",
    "y = df['trip_duration']"
   ]
  },
  {
   "cell_type": "code",
   "execution_count": 14,
   "id": "96af43c8",
   "metadata": {
    "executionInfo": {
     "elapsed": 17,
     "status": "aborted",
     "timestamp": 1654246824560,
     "user": {
      "displayName": "Jerry Adithya",
      "userId": "01521653889757943360"
     },
     "user_tz": -330
    },
    "id": "96af43c8"
   },
   "outputs": [
    {
     "data": {
      "text/html": [
       "<div>\n",
       "<style scoped>\n",
       "    .dataframe tbody tr th:only-of-type {\n",
       "        vertical-align: middle;\n",
       "    }\n",
       "\n",
       "    .dataframe tbody tr th {\n",
       "        vertical-align: top;\n",
       "    }\n",
       "\n",
       "    .dataframe thead th {\n",
       "        text-align: right;\n",
       "    }\n",
       "</style>\n",
       "<table border=\"1\" class=\"dataframe\">\n",
       "  <thead>\n",
       "    <tr style=\"text-align: right;\">\n",
       "      <th></th>\n",
       "      <th>vendor_id</th>\n",
       "      <th>passenger_count</th>\n",
       "      <th>trip_duration</th>\n",
       "      <th>pu_hour</th>\n",
       "      <th>yday</th>\n",
       "      <th>wday</th>\n",
       "      <th>distance</th>\n",
       "    </tr>\n",
       "  </thead>\n",
       "  <tbody>\n",
       "    <tr>\n",
       "      <th>count</th>\n",
       "      <td>729322.000000</td>\n",
       "      <td>729322.000000</td>\n",
       "      <td>7.293220e+05</td>\n",
       "      <td>729322.000000</td>\n",
       "      <td>729322.000000</td>\n",
       "      <td>729322.000000</td>\n",
       "      <td>729322.000000</td>\n",
       "    </tr>\n",
       "    <tr>\n",
       "      <th>mean</th>\n",
       "      <td>1.535403</td>\n",
       "      <td>1.662055</td>\n",
       "      <td>9.522291e+02</td>\n",
       "      <td>13.611698</td>\n",
       "      <td>91.882577</td>\n",
       "      <td>3.049081</td>\n",
       "      <td>3.438978</td>\n",
       "    </tr>\n",
       "    <tr>\n",
       "      <th>std</th>\n",
       "      <td>0.498745</td>\n",
       "      <td>1.312446</td>\n",
       "      <td>3.864626e+03</td>\n",
       "      <td>6.402853</td>\n",
       "      <td>51.555655</td>\n",
       "      <td>1.954470</td>\n",
       "      <td>4.350399</td>\n",
       "    </tr>\n",
       "    <tr>\n",
       "      <th>min</th>\n",
       "      <td>1.000000</td>\n",
       "      <td>0.000000</td>\n",
       "      <td>1.000000e+00</td>\n",
       "      <td>0.000000</td>\n",
       "      <td>1.000000</td>\n",
       "      <td>0.000000</td>\n",
       "      <td>0.000000</td>\n",
       "    </tr>\n",
       "    <tr>\n",
       "      <th>25%</th>\n",
       "      <td>1.000000</td>\n",
       "      <td>1.000000</td>\n",
       "      <td>3.970000e+02</td>\n",
       "      <td>9.000000</td>\n",
       "      <td>48.000000</td>\n",
       "      <td>1.000000</td>\n",
       "      <td>1.231921</td>\n",
       "    </tr>\n",
       "    <tr>\n",
       "      <th>50%</th>\n",
       "      <td>2.000000</td>\n",
       "      <td>1.000000</td>\n",
       "      <td>6.630000e+02</td>\n",
       "      <td>14.000000</td>\n",
       "      <td>92.000000</td>\n",
       "      <td>3.000000</td>\n",
       "      <td>2.094356</td>\n",
       "    </tr>\n",
       "    <tr>\n",
       "      <th>75%</th>\n",
       "      <td>2.000000</td>\n",
       "      <td>2.000000</td>\n",
       "      <td>1.075000e+03</td>\n",
       "      <td>19.000000</td>\n",
       "      <td>136.000000</td>\n",
       "      <td>5.000000</td>\n",
       "      <td>3.874047</td>\n",
       "    </tr>\n",
       "    <tr>\n",
       "      <th>max</th>\n",
       "      <td>2.000000</td>\n",
       "      <td>9.000000</td>\n",
       "      <td>1.939736e+06</td>\n",
       "      <td>23.000000</td>\n",
       "      <td>182.000000</td>\n",
       "      <td>6.000000</td>\n",
       "      <td>1240.129578</td>\n",
       "    </tr>\n",
       "  </tbody>\n",
       "</table>\n",
       "</div>"
      ],
      "text/plain": [
       "           vendor_id  passenger_count  trip_duration        pu_hour  \\\n",
       "count  729322.000000    729322.000000   7.293220e+05  729322.000000   \n",
       "mean        1.535403         1.662055   9.522291e+02      13.611698   \n",
       "std         0.498745         1.312446   3.864626e+03       6.402853   \n",
       "min         1.000000         0.000000   1.000000e+00       0.000000   \n",
       "25%         1.000000         1.000000   3.970000e+02       9.000000   \n",
       "50%         2.000000         1.000000   6.630000e+02      14.000000   \n",
       "75%         2.000000         2.000000   1.075000e+03      19.000000   \n",
       "max         2.000000         9.000000   1.939736e+06      23.000000   \n",
       "\n",
       "                yday           wday       distance  \n",
       "count  729322.000000  729322.000000  729322.000000  \n",
       "mean       91.882577       3.049081       3.438978  \n",
       "std        51.555655       1.954470       4.350399  \n",
       "min         1.000000       0.000000       0.000000  \n",
       "25%        48.000000       1.000000       1.231921  \n",
       "50%        92.000000       3.000000       2.094356  \n",
       "75%       136.000000       5.000000       3.874047  \n",
       "max       182.000000       6.000000    1240.129578  "
      ]
     },
     "execution_count": 14,
     "metadata": {},
     "output_type": "execute_result"
    }
   ],
   "source": [
    "df.describe()"
   ]
  },
  {
   "cell_type": "code",
   "execution_count": 15,
   "id": "4189b504",
   "metadata": {
    "executionInfo": {
     "elapsed": 17,
     "status": "aborted",
     "timestamp": 1654246824560,
     "user": {
      "displayName": "Jerry Adithya",
      "userId": "01521653889757943360"
     },
     "user_tz": -330
    },
    "id": "4189b504",
    "scrolled": true
   },
   "outputs": [
    {
     "data": {
      "text/html": [
       "<div>\n",
       "<style scoped>\n",
       "    .dataframe tbody tr th:only-of-type {\n",
       "        vertical-align: middle;\n",
       "    }\n",
       "\n",
       "    .dataframe tbody tr th {\n",
       "        vertical-align: top;\n",
       "    }\n",
       "\n",
       "    .dataframe thead th {\n",
       "        text-align: right;\n",
       "    }\n",
       "</style>\n",
       "<table border=\"1\" class=\"dataframe\">\n",
       "  <thead>\n",
       "    <tr style=\"text-align: right;\">\n",
       "      <th></th>\n",
       "      <th>vendor_id</th>\n",
       "      <th>passenger_count</th>\n",
       "      <th>trip_duration</th>\n",
       "      <th>pu_hour</th>\n",
       "      <th>yday</th>\n",
       "      <th>wday</th>\n",
       "      <th>distance</th>\n",
       "    </tr>\n",
       "  </thead>\n",
       "  <tbody>\n",
       "    <tr>\n",
       "      <th>vendor_id</th>\n",
       "      <td>1.000000</td>\n",
       "      <td>0.286463</td>\n",
       "      <td>0.027752</td>\n",
       "      <td>0.009772</td>\n",
       "      <td>-0.005227</td>\n",
       "      <td>0.000787</td>\n",
       "      <td>0.006510</td>\n",
       "    </tr>\n",
       "    <tr>\n",
       "      <th>passenger_count</th>\n",
       "      <td>0.286463</td>\n",
       "      <td>1.000000</td>\n",
       "      <td>0.013022</td>\n",
       "      <td>0.009851</td>\n",
       "      <td>-0.001182</td>\n",
       "      <td>0.025758</td>\n",
       "      <td>0.009175</td>\n",
       "    </tr>\n",
       "    <tr>\n",
       "      <th>trip_duration</th>\n",
       "      <td>0.027752</td>\n",
       "      <td>0.013022</td>\n",
       "      <td>1.000000</td>\n",
       "      <td>0.002979</td>\n",
       "      <td>0.009418</td>\n",
       "      <td>-0.002302</td>\n",
       "      <td>0.125772</td>\n",
       "    </tr>\n",
       "    <tr>\n",
       "      <th>pu_hour</th>\n",
       "      <td>0.009772</td>\n",
       "      <td>0.009851</td>\n",
       "      <td>0.002979</td>\n",
       "      <td>1.000000</td>\n",
       "      <td>-0.003549</td>\n",
       "      <td>-0.082079</td>\n",
       "      <td>-0.016269</td>\n",
       "    </tr>\n",
       "    <tr>\n",
       "      <th>yday</th>\n",
       "      <td>-0.005227</td>\n",
       "      <td>-0.001182</td>\n",
       "      <td>0.009418</td>\n",
       "      <td>-0.003549</td>\n",
       "      <td>1.000000</td>\n",
       "      <td>-0.012497</td>\n",
       "      <td>0.017201</td>\n",
       "    </tr>\n",
       "    <tr>\n",
       "      <th>wday</th>\n",
       "      <td>0.000787</td>\n",
       "      <td>0.025758</td>\n",
       "      <td>-0.002302</td>\n",
       "      <td>-0.082079</td>\n",
       "      <td>-0.012497</td>\n",
       "      <td>1.000000</td>\n",
       "      <td>0.007786</td>\n",
       "    </tr>\n",
       "    <tr>\n",
       "      <th>distance</th>\n",
       "      <td>0.006510</td>\n",
       "      <td>0.009175</td>\n",
       "      <td>0.125772</td>\n",
       "      <td>-0.016269</td>\n",
       "      <td>0.017201</td>\n",
       "      <td>0.007786</td>\n",
       "      <td>1.000000</td>\n",
       "    </tr>\n",
       "  </tbody>\n",
       "</table>\n",
       "</div>"
      ],
      "text/plain": [
       "                 vendor_id  passenger_count  trip_duration   pu_hour  \\\n",
       "vendor_id         1.000000         0.286463       0.027752  0.009772   \n",
       "passenger_count   0.286463         1.000000       0.013022  0.009851   \n",
       "trip_duration     0.027752         0.013022       1.000000  0.002979   \n",
       "pu_hour           0.009772         0.009851       0.002979  1.000000   \n",
       "yday             -0.005227        -0.001182       0.009418 -0.003549   \n",
       "wday              0.000787         0.025758      -0.002302 -0.082079   \n",
       "distance          0.006510         0.009175       0.125772 -0.016269   \n",
       "\n",
       "                     yday      wday  distance  \n",
       "vendor_id       -0.005227  0.000787  0.006510  \n",
       "passenger_count -0.001182  0.025758  0.009175  \n",
       "trip_duration    0.009418 -0.002302  0.125772  \n",
       "pu_hour         -0.003549 -0.082079 -0.016269  \n",
       "yday             1.000000 -0.012497  0.017201  \n",
       "wday            -0.012497  1.000000  0.007786  \n",
       "distance         0.017201  0.007786  1.000000  "
      ]
     },
     "execution_count": 15,
     "metadata": {},
     "output_type": "execute_result"
    }
   ],
   "source": [
    "df.corr()"
   ]
  },
  {
   "cell_type": "code",
   "execution_count": 16,
   "id": "7c420e0c",
   "metadata": {
    "executionInfo": {
     "elapsed": 18,
     "status": "aborted",
     "timestamp": 1654246824561,
     "user": {
      "displayName": "Jerry Adithya",
      "userId": "01521653889757943360"
     },
     "user_tz": -330
    },
    "id": "7c420e0c"
   },
   "outputs": [
    {
     "data": {
      "text/plain": [
       "count    202.589444\n",
       "mean       0.264508\n",
       "std        1.073507\n",
       "min        0.000278\n",
       "25%        0.110278\n",
       "50%        0.184167\n",
       "75%        0.298611\n",
       "max      538.815556\n",
       "Name: trip_duration, dtype: float64"
      ]
     },
     "execution_count": 16,
     "metadata": {},
     "output_type": "execute_result"
    }
   ],
   "source": [
    "df['trip_duration'].describe()/3600"
   ]
  },
  {
   "cell_type": "code",
   "execution_count": 17,
   "id": "4c7e8c7f",
   "metadata": {
    "executionInfo": {
     "elapsed": 18,
     "status": "aborted",
     "timestamp": 1654246824561,
     "user": {
      "displayName": "Jerry Adithya",
      "userId": "01521653889757943360"
     },
     "user_tz": -330
    },
    "id": "4c7e8c7f"
   },
   "outputs": [
    {
     "data": {
      "image/png": "[encoded data removed]",
      "text/plain": [
       "<Figure size 432x288 with 1 Axes>"
      ]
     },
     "metadata": {
      "needs_background": "light"
     },
     "output_type": "display_data"
    }
   ],
   "source": [
    "df['log_trip_duration'] = np.log(df['trip_duration'].values + 1)\n",
    "sns.distplot(df['log_trip_duration'], kde = False, bins = 200)\n",
    "plt.show()"
   ]
  },
  {
   "cell_type": "markdown",
   "id": "9f7c1797",
   "metadata": {
    "id": "9f7c1797"
   },
   "source": [
    "### Visualisations"
   ]
  },
  {
   "cell_type": "code",
   "execution_count": 18,
   "id": "2dbe8657",
   "metadata": {
    "executionInfo": {
     "elapsed": 18,
     "status": "aborted",
     "timestamp": 1654246824561,
     "user": {
      "displayName": "Jerry Adithya",
      "userId": "01521653889757943360"
     },
     "user_tz": -330
    },
    "id": "2dbe8657"
   },
   "outputs": [
    {
     "data": {
      "image/png": "[encoded data removed]",
      "text/plain": [
       "<Figure size 1584x432 with 3 Axes>"
      ]
     },
     "metadata": {
      "needs_background": "light"
     },
     "output_type": "display_data"
    }
   ],
   "source": [
    "plt.figure(figsize=(22, 6))\n",
    "\n",
    "plt.subplot(131)\n",
    "sns.countplot(df['passenger_count'])\n",
    "plt.xlabel('Passenger Count')\n",
    "plt.ylabel('Frequency')\n",
    "\n",
    "plt.subplot(132)\n",
    "sns.countplot(df['vendor_id'])\n",
    "plt.xlabel('vendor_id')\n",
    "plt.ylabel('Frequency')\n",
    "\n",
    "plt.subplot(133)\n",
    "sns.countplot(df['store_and_fwd_flag'])\n",
    "plt.xlabel('store_and_fwd_flag')\n",
    "plt.ylabel('Frequency');"
   ]
  },
  {
   "cell_type": "markdown",
   "id": "ed873b50",
   "metadata": {
    "id": "ed873b50"
   },
   "source": [
    "We can drop store_and_fwd_flag since we cannot draw any actionable insight with this data."
   ]
  },
  {
   "cell_type": "code",
   "execution_count": 19,
   "id": "e4c9f126",
   "metadata": {
    "executionInfo": {
     "elapsed": 19,
     "status": "aborted",
     "timestamp": 1654246824562,
     "user": {
      "displayName": "Jerry Adithya",
      "userId": "01521653889757943360"
     },
     "user_tz": -330
    },
    "id": "e4c9f126"
   },
   "outputs": [
    {
     "data": {
      "image/png": "[encoded data removed]",
      "text/plain": [
       "<Figure size 1584x432 with 2 Axes>"
      ]
     },
     "metadata": {
      "needs_background": "light"
     },
     "output_type": "display_data"
    }
   ],
   "source": [
    "plt.figure(figsize=(22, 6))\n",
    "\n",
    "plt.subplot(121)\n",
    "sns.countplot(df['wday'])\n",
    "plt.xlabel('Week Day')\n",
    "plt.ylabel('Total Number of pickups')\n",
    "\n",
    "plt.subplot(122)\n",
    "sns.countplot(df['pu_hour'])\n",
    "plt.xlabel('Hour of Day')\n",
    "plt.ylabel('Total number of pickups');"
   ]
  },
  {
   "cell_type": "markdown",
   "id": "4ca57004",
   "metadata": {
    "id": "4ca57004"
   },
   "source": [
    "Peak pickup day is Thursday and peak hours are in the evening and least pickups occur early morning."
   ]
  },
  {
   "cell_type": "code",
   "execution_count": 20,
   "id": "bfde5602",
   "metadata": {
    "executionInfo": {
     "elapsed": 19,
     "status": "aborted",
     "timestamp": 1654246824562,
     "user": {
      "displayName": "Jerry Adithya",
      "userId": "01521653889757943360"
     },
     "user_tz": -330
    },
    "id": "bfde5602",
    "scrolled": true
   },
   "outputs": [
    {
     "data": {
      "text/plain": [
       "<AxesSubplot:xlabel='pu_hour', ylabel='trip_duration'>"
      ]
     },
     "execution_count": 20,
     "metadata": {},
     "output_type": "execute_result"
    },
    {
     "data": {
      "image/png": "[encoded data removed]",
      "text/plain": [
       "<Figure size 432x288 with 1 Axes>"
      ]
     },
     "metadata": {
      "needs_background": "light"
     },
     "output_type": "display_data"
    }
   ],
   "source": [
    "sns.lineplot(x=\"pu_hour\",y='trip_duration',data=df)"
   ]
  },
  {
   "cell_type": "markdown",
   "id": "496ebd0b",
   "metadata": {
    "id": "496ebd0b"
   },
   "source": [
    "## Split"
   ]
  },
  {
   "cell_type": "code",
   "execution_count": 21,
   "id": "bea1a607",
   "metadata": {
    "executionInfo": {
     "elapsed": 19,
     "status": "aborted",
     "timestamp": 1654246824562,
     "user": {
      "displayName": "Jerry Adithya",
      "userId": "01521653889757943360"
     },
     "user_tz": -330
    },
    "id": "bea1a607"
   },
   "outputs": [],
   "source": [
    "features = [\"pu_hour\",\"yday\",\"wday\",\"distance\",\"vendor_id\",\"passenger_count\"]\n",
    "X = df[features]"
   ]
  },
  {
   "cell_type": "code",
   "execution_count": 22,
   "id": "f55f4328",
   "metadata": {
    "executionInfo": {
     "elapsed": 19,
     "status": "aborted",
     "timestamp": 1654246824563,
     "user": {
      "displayName": "Jerry Adithya",
      "userId": "01521653889757943360"
     },
     "user_tz": -330
    },
    "id": "f55f4328"
   },
   "outputs": [],
   "source": [
    "target = \"trip_duration\"\n",
    "y = df[target]"
   ]
  },
  {
   "cell_type": "markdown",
   "id": "80da71ea",
   "metadata": {
    "id": "80da71ea"
   },
   "source": [
    "## Build Model"
   ]
  },
  {
   "cell_type": "markdown",
   "id": "63ee5ad8",
   "metadata": {
    "id": "63ee5ad8"
   },
   "source": [
    "### Baseline"
   ]
  },
  {
   "cell_type": "code",
   "execution_count": 23,
   "id": "b97515ee",
   "metadata": {
    "executionInfo": {
     "elapsed": 19,
     "status": "aborted",
     "timestamp": 1654246824563,
     "user": {
      "displayName": "Jerry Adithya",
      "userId": "01521653889757943360"
     },
     "user_tz": -330
    },
    "id": "b97515ee"
   },
   "outputs": [
    {
     "name": "stdout",
     "output_type": "stream",
     "text": [
      "Mean time: 952.23\n",
      "Baseline MAE: 618.7709390780225\n"
     ]
    }
   ],
   "source": [
    "y_mean = y.mean()\n",
    "y_pred_baseline = [y_mean] * len(y)\n",
    "print(\"Mean time:\", round(y_mean, 2))\n",
    "print(\"Baseline MAE:\", mean_absolute_error(y, y_pred_baseline))"
   ]
  },
  {
   "cell_type": "code",
   "execution_count": 24,
   "id": "c160e6b2",
   "metadata": {
    "executionInfo": {
     "elapsed": 21,
     "status": "aborted",
     "timestamp": 1654246824565,
     "user": {
      "displayName": "Jerry Adithya",
      "userId": "01521653889757943360"
     },
     "user_tz": -330
    },
    "id": "c160e6b2"
   },
   "outputs": [],
   "source": [
    "from sklearn.model_selection import train_test_split\n",
    "X_train, X_test, y_train, y_test = train_test_split(X, y)"
   ]
  },
  {
   "cell_type": "code",
   "execution_count": 25,
   "id": "cfc9d07e",
   "metadata": {
    "executionInfo": {
     "elapsed": 22,
     "status": "aborted",
     "timestamp": 1654246824566,
     "user": {
      "displayName": "Jerry Adithya",
      "userId": "01521653889757943360"
     },
     "user_tz": -330
    },
    "id": "cfc9d07e"
   },
   "outputs": [
    {
     "data": {
      "text/html": [
       "<style>#sk-container-id-1 {color: black;background-color: white;}#sk-container-id-1 pre{padding: 0;}#sk-container-id-1 div.sk-toggleable {background-color: white;}#sk-container-id-1 label.sk-toggleable__label {cursor: pointer;display: block;width: 100%;margin-bottom: 0;padding: 0.3em;box-sizing: border-box;text-align: center;}#sk-container-id-1 label.sk-toggleable__label-arrow:before {content: \"▸\";float: left;margin-right: 0.25em;color: #696969;}#sk-container-id-1 label.sk-toggleable__label-arrow:hover:before {color: black;}#sk-container-id-1 div.sk-estimator:hover label.sk-toggleable__label-arrow:before {color: black;}#sk-container-id-1 div.sk-toggleable__content {max-height: 0;max-width: 0;overflow: hidden;text-align: left;background-color: #f0f8ff;}#sk-container-id-1 div.sk-toggleable__content pre {margin: 0.2em;color: black;border-radius: 0.25em;background-color: #f0f8ff;}#sk-container-id-1 input.sk-toggleable__control:checked~div.sk-toggleable__content {max-height: 200px;max-width: 100%;overflow: auto;}#sk-container-id-1 input.sk-toggleable__control:checked~label.sk-toggleable__label-arrow:before {content: \"▾\";}#sk-container-id-1 div.sk-estimator input.sk-toggleable__control:checked~label.sk-toggleable__label {background-color: #d4ebff;}#sk-container-id-1 div.sk-label input.sk-toggleable__control:checked~label.sk-toggleable__label {background-color: #d4ebff;}#sk-container-id-1 input.sk-hidden--visually {border: 0;clip: rect(1px 1px 1px 1px);clip: rect(1px, 1px, 1px, 1px);height: 1px;margin: -1px;overflow: hidden;padding: 0;position: absolute;width: 1px;}#sk-container-id-1 div.sk-estimator {font-family: monospace;background-color: #f0f8ff;border: 1px dotted black;border-radius: 0.25em;box-sizing: border-box;margin-bottom: 0.5em;}#sk-container-id-1 div.sk-estimator:hover {background-color: #d4ebff;}#sk-container-id-1 div.sk-parallel-item::after {content: \"\";width: 100%;border-bottom: 1px solid gray;flex-grow: 1;}#sk-container-id-1 div.sk-label:hover label.sk-toggleable__label {background-color: #d4ebff;}#sk-container-id-1 div.sk-serial::before {content: \"\";position: absolute;border-left: 1px solid gray;box-sizing: border-box;top: 0;bottom: 0;left: 50%;z-index: 0;}#sk-container-id-1 div.sk-serial {display: flex;flex-direction: column;align-items: center;background-color: white;padding-right: 0.2em;padding-left: 0.2em;position: relative;}#sk-container-id-1 div.sk-item {position: relative;z-index: 1;}#sk-container-id-1 div.sk-parallel {display: flex;align-items: stretch;justify-content: center;background-color: white;position: relative;}#sk-container-id-1 div.sk-item::before, #sk-container-id-1 div.sk-parallel-item::before {content: \"\";position: absolute;border-left: 1px solid gray;box-sizing: border-box;top: 0;bottom: 0;left: 50%;z-index: -1;}#sk-container-id-1 div.sk-parallel-item {display: flex;flex-direction: column;z-index: 1;position: relative;background-color: white;}#sk-container-id-1 div.sk-parallel-item:first-child::after {align-self: flex-end;width: 50%;}#sk-container-id-1 div.sk-parallel-item:last-child::after {align-self: flex-start;width: 50%;}#sk-container-id-1 div.sk-parallel-item:only-child::after {width: 0;}#sk-container-id-1 div.sk-dashed-wrapped {border: 1px dashed gray;margin: 0 0.4em 0.5em 0.4em;box-sizing: border-box;padding-bottom: 0.4em;background-color: white;}#sk-container-id-1 div.sk-label label {font-family: monospace;font-weight: bold;display: inline-block;line-height: 1.2em;}#sk-container-id-1 div.sk-label-container {text-align: center;}#sk-container-id-1 div.sk-container {/* jupyter's `normalize.less` sets `[hidden] { display: none; }` but bootstrap.min.css set `[hidden] { display: none !important; }` so we also need the `!important` here to be able to override the default hidden behavior on the sphinx rendered scikit-learn.org. See: https://github.com/scikit-learn/scikit-learn/issues/21755 */display: inline-block !important;position: relative;}#sk-container-id-1 div.sk-text-repr-fallback {display: none;}</style><div id=\"sk-container-id-1\" class=\"sk-top-container\"><div class=\"sk-text-repr-fallback\"><pre>LinearRegression()</pre><b>In a Jupyter environment, please rerun this cell to show the HTML representation or trust the notebook. <br />On GitHub, the HTML representation is unable to render, please try loading this page with nbviewer.org.</b></div><div class=\"sk-container\" hidden><div class=\"sk-item\"><div class=\"sk-estimator sk-toggleable\"><input class=\"sk-toggleable__control sk-hidden--visually\" id=\"sk-estimator-id-1\" type=\"checkbox\" checked><label for=\"sk-estimator-id-1\" class=\"sk-toggleable__label sk-toggleable__label-arrow\">LinearRegression</label><div class=\"sk-toggleable__content\"><pre>LinearRegression()</pre></div></div></div></div></div>"
      ],
      "text/plain": [
       "LinearRegression()"
      ]
     },
     "execution_count": 25,
     "metadata": {},
     "output_type": "execute_result"
    }
   ],
   "source": [
    "from sklearn.linear_model import LinearRegression\n",
    "LR = LinearRegression()\n",
    "LR.fit(X,y)"
   ]
  },
  {
   "cell_type": "markdown",
   "id": "f39f491a",
   "metadata": {
    "id": "f39f491a"
   },
   "source": [
    "### Linear Regression"
   ]
  },
  {
   "cell_type": "code",
   "execution_count": 26,
   "id": "02312aa2",
   "metadata": {
    "executionInfo": {
     "elapsed": 23,
     "status": "aborted",
     "timestamp": 1654246824567,
     "user": {
      "displayName": "Jerry Adithya",
      "userId": "01521653889757943360"
     },
     "user_tz": -330
    },
    "id": "02312aa2"
   },
   "outputs": [],
   "source": [
    "y_prediction =  LR.predict(X_test)"
   ]
  },
  {
   "cell_type": "code",
   "execution_count": 27,
   "id": "30605d57",
   "metadata": {
    "executionInfo": {
     "elapsed": 23,
     "status": "aborted",
     "timestamp": 1654246824567,
     "user": {
      "displayName": "Jerry Adithya",
      "userId": "01521653889757943360"
     },
     "user_tz": -330
    },
    "id": "30605d57"
   },
   "outputs": [
    {
     "name": "stdout",
     "output_type": "stream",
     "text": [
      "171.48559089511411\n"
     ]
    }
   ],
   "source": [
    "print(LR.intercept_)"
   ]
  },
  {
   "cell_type": "code",
   "execution_count": 28,
   "id": "ba499932",
   "metadata": {
    "executionInfo": {
     "elapsed": 23,
     "status": "aborted",
     "timestamp": 1654246824567,
     "user": {
      "displayName": "Jerry Adithya",
      "userId": "01521653889757943360"
     },
     "user_tz": -330
    },
    "id": "ba499932"
   },
   "outputs": [
    {
     "name": "stdout",
     "output_type": "stream",
     "text": [
      "[  2.72186494   0.55297188  -5.84353018 111.51527299 198.53723994\n",
      "  13.45927164]\n"
     ]
    }
   ],
   "source": [
    "print(LR.coef_)"
   ]
  },
  {
   "cell_type": "code",
   "execution_count": 29,
   "id": "efcdebb9",
   "metadata": {
    "executionInfo": {
     "elapsed": 23,
     "status": "aborted",
     "timestamp": 1654246824567,
     "user": {
      "displayName": "Jerry Adithya",
      "userId": "01521653889757943360"
     },
     "user_tz": -330
    },
    "id": "efcdebb9"
   },
   "outputs": [
    {
     "name": "stdout",
     "output_type": "stream",
     "text": [
      "Pred Mean Absolute Error: 456.5261661228884\n",
      "Mean Squared Error: 9704669.602585351\n",
      "Root Mean Squared Error: 3115.2318697948235\n"
     ]
    }
   ],
   "source": [
    "print('Pred Mean Absolute Error:', metrics.mean_absolute_error(y_test, y_prediction))\n",
    "print('Mean Squared Error:', metrics.mean_squared_error(y_test, y_prediction))\n",
    "print('Root Mean Squared Error:', np.sqrt(metrics.mean_squared_error(y_test, y_prediction)))"
   ]
  },
  {
   "cell_type": "markdown",
   "id": "54f65758",
   "metadata": {
    "id": "54f65758"
   },
   "source": [
    "## K-Nearest neighbours’"
   ]
  },
  {
   "cell_type": "code",
   "execution_count": 30,
   "id": "859e7c24",
   "metadata": {
    "executionInfo": {
     "elapsed": 24,
     "status": "aborted",
     "timestamp": 1654246824568,
     "user": {
      "displayName": "Jerry Adithya",
      "userId": "01521653889757943360"
     },
     "user_tz": -330
    },
    "id": "859e7c24"
   },
   "outputs": [],
   "source": [
    "features = [\"pu_hour\",\"yday\",\"wday\",\"distance\",\"vendor_id\",\"passenger_count\"]\n",
    "x = df[features]\n",
    "target = \"trip_duration\"\n",
    "y = df[target]"
   ]
  },
  {
   "cell_type": "code",
   "execution_count": 31,
   "id": "257506e6",
   "metadata": {
    "executionInfo": {
     "elapsed": 24,
     "status": "aborted",
     "timestamp": 1654246824568,
     "user": {
      "displayName": "Jerry Adithya",
      "userId": "01521653889757943360"
     },
     "user_tz": -330
    },
    "id": "257506e6"
   },
   "outputs": [],
   "source": [
    "scaler = MinMaxScaler()\n",
    "x_scaled = scaler.fit_transform(x)\n",
    "x = pd.DataFrame(x_scaled)"
   ]
  },
  {
   "cell_type": "code",
   "execution_count": 32,
   "id": "c7c72282",
   "metadata": {
    "executionInfo": {
     "elapsed": 23,
     "status": "aborted",
     "timestamp": 1654246824568,
     "user": {
      "displayName": "Jerry Adithya",
      "userId": "01521653889757943360"
     },
     "user_tz": -330
    },
    "id": "c7c72282"
   },
   "outputs": [],
   "source": [
    "from sklearn.model_selection import train_test_split\n",
    "X_train, X_test, y_train, y_test = train_test_split(x, y, random_state = 42)"
   ]
  },
  {
   "cell_type": "code",
   "execution_count": 33,
   "id": "bc14f342",
   "metadata": {
    "executionInfo": {
     "elapsed": 24,
     "status": "aborted",
     "timestamp": 1654246824569,
     "user": {
      "displayName": "Jerry Adithya",
      "userId": "01521653889757943360"
     },
     "user_tz": -330
    },
    "id": "bc14f342"
   },
   "outputs": [
    {
     "name": "stdout",
     "output_type": "stream",
     "text": [
      "Pred Mean Absolute Error: 533.0860084132704\n",
      "Mean Squared Error: 34406118.602736235\n",
      "Root Mean Squared Error: 5865.672902808017\n"
     ]
    }
   ],
   "source": [
    "clf = KNN(n_neighbors = 2)\n",
    "clf.fit(X_train, y_train)\n",
    "test_predict = clf.predict(X_test)\n",
    "print('Pred Mean Absolute Error:', metrics.mean_absolute_error(y_test, test_predict))\n",
    "print('Mean Squared Error:', metrics.mean_squared_error(y_test, test_predict))\n",
    "print('Root Mean Squared Error:', np.sqrt(metrics.mean_squared_error(y_test, test_predict)))"
   ]
  },
  {
   "cell_type": "code",
   "execution_count": 34,
   "id": "6e3babc2",
   "metadata": {
    "executionInfo": {
     "elapsed": 454,
     "status": "aborted",
     "timestamp": 1654246824999,
     "user": {
      "displayName": "Jerry Adithya",
      "userId": "01521653889757943360"
     },
     "user_tz": -330
    },
    "id": "6e3babc2"
   },
   "outputs": [],
   "source": [
    "def Elbow(K):\n",
    "    test_mse = []\n",
    "    \n",
    "    for i in K:\n",
    "\n",
    "        reg = KNN(n_neighbors = i)\n",
    "        reg.fit(X_train, y_train)\n",
    "        \n",
    "        tmp = reg.predict(X_test)\n",
    "        tmp = mse(tmp,y_test)\n",
    "        test_mse.append(tmp)\n",
    "    \n",
    "    return test_mse"
   ]
  },
  {
   "cell_type": "code",
   "execution_count": 35,
   "id": "45a74d67",
   "metadata": {
    "executionInfo": {
     "elapsed": 455,
     "status": "aborted",
     "timestamp": 1654246825000,
     "user": {
      "displayName": "Jerry Adithya",
      "userId": "01521653889757943360"
     },
     "user_tz": -330
    },
    "id": "45a74d67"
   },
   "outputs": [],
   "source": [
    "k = range(1, 8)"
   ]
  },
  {
   "cell_type": "code",
   "execution_count": 36,
   "id": "730124a9",
   "metadata": {
    "executionInfo": {
     "elapsed": 455,
     "status": "aborted",
     "timestamp": 1654246825000,
     "user": {
      "displayName": "Jerry Adithya",
      "userId": "01521653889757943360"
     },
     "user_tz": -330
    },
    "id": "730124a9"
   },
   "outputs": [],
   "source": [
    "test = Elbow(k)"
   ]
  },
  {
   "cell_type": "code",
   "execution_count": 37,
   "id": "eb80e941",
   "metadata": {
    "executionInfo": {
     "elapsed": 456,
     "status": "aborted",
     "timestamp": 1654246825001,
     "user": {
      "displayName": "Jerry Adithya",
      "userId": "01521653889757943360"
     },
     "user_tz": -330
    },
    "id": "eb80e941",
    "scrolled": true
   },
   "outputs": [
    {
     "data": {
      "image/png": "[encoded data removed]",
      "text/plain": [
       "<Figure size 432x288 with 1 Axes>"
      ]
     },
     "metadata": {
      "needs_background": "light"
     },
     "output_type": "display_data"
    }
   ],
   "source": [
    "plt.plot(k, test)\n",
    "plt.xlabel('K Neighbors')\n",
    "plt.ylabel('Test error')\n",
    "plt.title('Elbow Curve for test');"
   ]
  },
  {
   "cell_type": "markdown",
   "id": "9c307313",
   "metadata": {
    "id": "9c307313"
   },
   "source": [
    "## Decision Tree"
   ]
  },
  {
   "cell_type": "code",
   "execution_count": 38,
   "id": "f85f26d9",
   "metadata": {
    "executionInfo": {
     "elapsed": 455,
     "status": "aborted",
     "timestamp": 1654246825001,
     "user": {
      "displayName": "Jerry Adithya",
      "userId": "01521653889757943360"
     },
     "user_tz": -330
    },
    "id": "f85f26d9"
   },
   "outputs": [],
   "source": [
    "features = [\"pu_hour\",\"yday\",\"wday\",\"distance\",\"vendor_id\",\"passenger_count\"]\n",
    "X = df[features]\n",
    "y = df[\"trip_duration\"]"
   ]
  },
  {
   "cell_type": "code",
   "execution_count": 39,
   "id": "07f85595",
   "metadata": {
    "executionInfo": {
     "elapsed": 456,
     "status": "aborted",
     "timestamp": 1654246825002,
     "user": {
      "displayName": "Jerry Adithya",
      "userId": "01521653889757943360"
     },
     "user_tz": -330
    },
    "id": "07f85595"
   },
   "outputs": [],
   "source": [
    "from sklearn.model_selection import train_test_split\n",
    "X_train, X_test, y_train, y_test = train_test_split(x, y, random_state = 42)"
   ]
  },
  {
   "cell_type": "code",
   "execution_count": 40,
   "id": "9be65793",
   "metadata": {
    "executionInfo": {
     "elapsed": 456,
     "status": "aborted",
     "timestamp": 1654246825002,
     "user": {
      "displayName": "Jerry Adithya",
      "userId": "01521653889757943360"
     },
     "user_tz": -330
    },
    "id": "9be65793",
    "scrolled": true
   },
   "outputs": [
    {
     "name": "stdout",
     "output_type": "stream",
     "text": [
      "Pred Mean Absolute Error: 595.4760819608294\n",
      "Mean Squared Error: 42142048.31862794\n",
      "Root Mean Squared Error: 6491.690713414183\n"
     ]
    }
   ],
   "source": [
    "dtc = DecisionTreeRegressor()\n",
    "dtc.fit(X_train, y_train)\n",
    "y_pred_dtc = dtc.predict(X_test)\n",
    "print('Pred Mean Absolute Error:', metrics.mean_absolute_error(y_test, y_pred_dtc))\n",
    "print('Mean Squared Error:', metrics.mean_squared_error(y_test, y_pred_dtc))\n",
    "print('Root Mean Squared Error:', np.sqrt(metrics.mean_squared_error(y_test, y_pred_dtc)))"
   ]
  },
  {
   "cell_type": "code",
   "execution_count": 41,
   "id": "b186ef1e",
   "metadata": {},
   "outputs": [],
   "source": [
    "def rmse_fun(predicted, actual):\n",
    "    return np.sqrt(np.mean(np.square(predicted - actual)))\n",
    "rmse = make_scorer(rmse_fun, greater_is_better=False)"
   ]
  },
  {
   "cell_type": "code",
   "execution_count": 42,
   "id": "543e1592",
   "metadata": {},
   "outputs": [],
   "source": [
    "rf_model = RandomForestRegressor(n_estimators=25, min_samples_leaf=25, min_samples_split=25)\n",
    "tree_model = DecisionTreeRegressor(min_samples_leaf=25, min_samples_split=25)\n",
    "knn_model = KNN(n_neighbors=25, weights='distance')\n",
    "ridge_model = Ridge(alpha=75.0)\n",
    "lasso_model = Lasso(alpha=0.75)"
   ]
  },
  {
   "cell_type": "code",
   "execution_count": 43,
   "id": "4f089644",
   "metadata": {},
   "outputs": [
    {
     "data": {
      "text/plain": [
       "<AxesSubplot:title={'center':'The CV scores of Models'}, xlabel='Model'>"
      ]
     },
     "execution_count": 43,
     "metadata": {},
     "output_type": "execute_result"
    },
    {
     "data": {
      "image/png": "[encoded data removed]",
      "text/plain": [
       "<Figure size 432x288 with 1 Axes>"
      ]
     },
     "metadata": {
      "needs_background": "light"
     },
     "output_type": "display_data"
    }
   ],
   "source": [
    "models = [\n",
    "     ('DecisionTree', tree_model),\n",
    "     ('RandomForest', rf_model),\n",
    "     ('Ridge', ridge_model),\n",
    "     ('Lasso', lasso_model),\n",
    "     ('KNN', knn_model),\n",
    "\n",
    "]\n",
    "\n",
    "scores = [\n",
    "    -1.0 * cross_val_score(model, X.values, y.values, scoring=rmse).mean()\n",
    "    for _,model in models\n",
    "]\n",
    "\n",
    "dataz = pd.DataFrame({ 'Model': [name for name, _ in models], 'Error (RMSE)': scores })\n",
    "dataz.plot(x='Model', kind='bar',title='The CV scores of Models')"
   ]
  },
  {
   "cell_type": "markdown",
   "id": "f3925124",
   "metadata": {
    "id": "f3925124"
   },
   "source": [
    "### Conclusions\n",
    "1. The majority of rides follow a rather smooth distribution that looks almost log-normal with a peak just around exp(6.5)  i.e. about 17 minutes.\n",
    "2. There are several suspiciously short rides with less than 10 seconds duration.\n",
    "3. As discussed earlier, there are a few huge outliers near 12.\n",
    "4. Most of the trips involve only 1 passenger. There are trips with 7-9 passengers but they are very low in number.\n",
    "5. Vendor 2 has more number of trips as compared to vendor 1\n",
    "6. Number of pickups for weekends is much lower than week days with a peak on Thursday.\n",
    "7. Number of pickups as expected is highest in late evenings. However, it is much lower during the morning peak hours.\n",
    "8. Trip durations are definitely shorter for late night and early morning hours that can be attributed to low traffic density\n",
    "9. It follows a similar pattern when compared to number of pickups indicating a correlation between number of pickups and trip duration\n",
    "10. All models beat the baseline and Linear Regressor shows least error. Distance and Vendor ID have high coefficients in this model."
   ]
  }
 ],
 "metadata": {
  "colab": {
   "collapsed_sections": [
    "9f7c1797",
    "63ee5ad8",
    "f39f491a",
    "f3925124"
   ],
   "name": "Copy of NYC_Taxi_Trip_Duration (2).ipynb",
   "provenance": [
    {
     "file_id": "1Ac4muRxTB9cu6VbZDjQYIytxvo8iyMmd",
     "timestamp": 1654247148208
    }
   ]
  },
  "kernelspec": {
   "display_name": "Python 3 (ipykernel)",
   "language": "python",
   "name": "python3"
  },
  "language_info": {
   "codemirror_mode": {
    "name": "ipython",
    "version": 3
   },
   "file_extension": ".py",
   "mimetype": "text/x-python",
   "name": "python",
   "nbconvert_exporter": "python",
   "pygments_lexer": "ipython3",
   "version": "3.9.7"
  }
 },
 "nbformat": 4,
 "nbformat_minor": 5
}
